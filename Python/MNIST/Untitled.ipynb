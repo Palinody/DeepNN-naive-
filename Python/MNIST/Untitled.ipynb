{
 "cells": [
  {
   "cell_type": "markdown",
   "metadata": {},
   "source": [
    "### Reading the MNIST dataset"
   ]
  },
  {
   "cell_type": "code",
   "execution_count": 1,
   "metadata": {},
   "outputs": [],
   "source": [
    "import numpy as np\n",
    "#binary and fastly moving data\n",
    "import pickle\n",
    "#getting everything that's in a directory - files and dir\n",
    "from os import listdir\n",
    "from os.path import isfile, join\n",
    "#show images\n",
    "import matplotlib.pyplot as plt\n",
    "%matplotlib inline"
   ]
  },
  {
   "cell_type": "code",
   "execution_count": 2,
   "metadata": {},
   "outputs": [],
   "source": [
    "abs_path = r\"C:/Users/lukar/Desktop/c_cpp_projects/CPP/projects/matrix/Python/MNIST/\""
   ]
  },
  {
   "cell_type": "code",
   "execution_count": 3,
   "metadata": {},
   "outputs": [],
   "source": [
    "dir_files = [f for f in listdir(abs_path) if isfile(join(abs_path, f))]"
   ]
  },
  {
   "cell_type": "code",
   "execution_count": 4,
   "metadata": {},
   "outputs": [
    {
     "data": {
      "text/plain": [
       "['mnist_test.csv', 'mnist_train.csv', 'pickled_mnist.pkl', 'Untitled.ipynb']"
      ]
     },
     "execution_count": 4,
     "metadata": {},
     "output_type": "execute_result"
    }
   ],
   "source": [
    "dir_files"
   ]
  },
  {
   "cell_type": "code",
   "execution_count": 5,
   "metadata": {},
   "outputs": [],
   "source": [
    "def numpy_load(path, file_name):\n",
    "    \"\"\"\n",
    "    load data with numpy\n",
    "    \"\"\"\n",
    "    return np.loadtxt(path + file_name, delimiter = \",\")\n",
    "\n",
    "training_data = numpy_load(abs_path, dir_files[1])\n",
    "test_data = numpy_load(abs_path, dir_files[0])\n",
    "\n",
    "#separating the data\n",
    "train_imgs = np.asfarray(training_data[:, 1:])\n",
    "test_imgs = np.asfarray(test_data[:, 1:])\n",
    "train_labels = np.asfarray(training_data[:, :1])\n",
    "test_labels = np.asfarray(test_data[:, :1])"
   ]
  },
  {
   "cell_type": "code",
   "execution_count": 6,
   "metadata": {},
   "outputs": [
    {
     "data": {
      "image/png": "[encoded data removed]",
      "text/plain": [
       "<Figure size 432x288 with 5 Axes>"
      ]
     },
     "metadata": {
      "needs_background": "light"
     },
     "output_type": "display_data"
    },
    {
     "data": {
      "image/png": "[encoded data removed]",
      "text/plain": [
       "<Figure size 432x288 with 5 Axes>"
      ]
     },
     "metadata": {
      "needs_background": "light"
     },
     "output_type": "display_data"
    },
    {
     "data": {
      "image/png": "[encoded data removed]",
      "text/plain": [
       "<Figure size 432x288 with 5 Axes>"
      ]
     },
     "metadata": {
      "needs_background": "light"
     },
     "output_type": "display_data"
    }
   ],
   "source": [
    "m = 3; n = 5\n",
    "\n",
    "counter = 0\n",
    "for i in range(m):\n",
    "    for _ in range(n):\n",
    "        plt.subplot(m, n, counter+1)\n",
    "        plt.imshow(train_imgs[counter, :].reshape(28, 28), cmap=\"Greys\")\n",
    "        #plt.title(train_labels[counter, 0])\n",
    "        plt.axis(\"off\")\n",
    "        counter += 1\n",
    "    if i % 1 == 0:#plot by batch\n",
    "        plt.plot()\n",
    "        plt.show()\n",
    "#plot the rest\n",
    "#plt.plot()\n",
    "#plt.show()"
   ]
  },
  {
   "cell_type": "code",
   "execution_count": 288,
   "metadata": {},
   "outputs": [
    {
     "name": "stdout",
     "output_type": "stream",
     "text": [
      "60000 / 60000\n",
      "\n",
      "10000 / 10000\n",
      "\n"
     ]
    }
   ],
   "source": [
    "#one_hot = np.eye(10)\n",
    "#train_labels_one_hot = np.zeros((train_imgs.shape[0], 10))\n",
    "#test_labels_one_hot = np.zeros((test_imgs.shape[0], 10))\n",
    "\n",
    "def get_one_hot_data(data):\n",
    "    array_oh = np.zeros((data.shape[0], 10))\n",
    "    one_hot = np.eye(10)\n",
    "    for index, val in enumerate(data):\n",
    "        array_oh[index, :] = one_hot[int(val), :]\n",
    "    return array_oh\n",
    "train_oh = get_one_hot_data(train_labels)\n",
    "test_oh = get_one_hot_data(test_labels)\n",
    "\n",
    "def normalize_data(data_:np.ndarray):\n",
    "    \"\"\" normalized_data = (data_i - µ) / sigma \n",
    "        we are expecting ONE LINE VECTOR at a time \"\"\"\n",
    "    data = data_.copy()\n",
    "    N = len(data)\n",
    "    normalized_data = np.zeros_like(data)\n",
    "    mean = 1 / N * np.sum(data[np.newaxis, :], axis=1)\n",
    "    sigma = np.sqrt(1 / N * sum([(val - mean)**2 for val in data]))\n",
    "    print(\"sigma: \", sigma)\n",
    "    for index, val in enumerate(data):\n",
    "        normalized_data[index] = (val - mean) / (sigma+1e-8)\n",
    "    return normalized_data\n",
    "\n",
    "def normalize_image_without_zeros(data_:np.ndarray):\n",
    "    \"\"\" in this function, we get rid of useless information to normalize data\n",
    "        I assume that pixel values that are not digits should remain unchanged\n",
    "        Thus: zeros remain zeros as we dont want it to bring more information \"\"\"\n",
    "    data = data_.copy()\n",
    "    # we get rid of zeros, we need to store index\n",
    "    data = [(index, digit) for index, digit in enumerate(data) if digit != 0]\n",
    "    data_indices, data_values = zip(*data)\n",
    "    data_indices, data_values = list(data_indices), list(data_values)\n",
    "    N = len(data)\n",
    "    #normalized data array dims will be like the original\n",
    "    normalized_data = np.zeros((1, len(data_)))\n",
    "    mean = 1 / N * sum(data_values)\n",
    "    sigma = np.sqrt(1 / N * sum([(val - mean)**2 for val in data_values]))\n",
    "    for index, val in zip(data_indices, data_values):\n",
    "        assert(val == data_[index])\n",
    "        normalized_data[0, index] = (val - mean) / (sigma+1e-8)\n",
    "    return normalized_data\n",
    "\n",
    "def normalize_data_without_zeros(data:np.ndarray):\n",
    "    N = data.shape[0]\n",
    "    normalized_data = data.copy()\n",
    "    for index, image in enumerate(normalized_data):\n",
    "        normalized_data[index, :] = normalize_image_without_zeros(image)\n",
    "        if index % round(0.1*N) == 0 or index == N-1:\n",
    "                print(\"%d / %d\" %(index+1, N), end='\\r')\n",
    "    print(\"\\n\")\n",
    "    return normalized_data\n",
    "\n",
    "train_imgs_normalized = normalize_data_without_zeros(train_imgs)\n",
    "test_imgs_normalized = normalize_data_without_zeros(test_imgs)\n",
    "#plt.imshow(aaa.reshape(28, 28))\n",
    "#plt.show()"
   ]
  },
  {
   "cell_type": "code",
   "execution_count": 298,
   "metadata": {},
   "outputs": [
    {
     "name": "stdout",
     "output_type": "stream",
     "text": [
      "60000 / 60000\n",
      "\n",
      "10000 / 10000\n",
      "\n",
      "60000 / 60000\n",
      "\n",
      "10000 / 10000\n",
      "\n"
     ]
    }
   ],
   "source": [
    "def write_cpp_data(data, file_name):\n",
    "    lines = data.shape[0]\n",
    "    with open(\"cpp_data/\"+file_name, 'w') as f:\n",
    "        for i, data_line in enumerate(data):\n",
    "            #f.write(\"\\t\".join(data_line))\n",
    "            #if i == 4: break\n",
    "            COUNTER = 0\n",
    "            for element in data_line:\n",
    "                f.write('%f' % (element))\n",
    "                f.write(\"\\t\")\n",
    "            f.write(\"\\n\")\n",
    "            \n",
    "            #prints loading state each 10%\n",
    "            if i % round(0.1*lines) == 0 or i == lines-1:\n",
    "                print(\"%d / %d\" %(i+1, lines), end='\\r')\n",
    "    print(\"\\n\")\n",
    "\n",
    "#write_cpp_data(train_imgs, \"train_data_imgs.txt\")\n",
    "#write_cpp_data(test_imgs, \"test_data_imgs.txt\")\n",
    "\"\"\"writes .txt data for cpp DL framework\"\"\"\n",
    "#write_cpp_data(train_oh, \"train_labels_oh.txt\")\n",
    "#write_cpp_data(test_oh, \"test_labels_oh.txt\")\n",
    "\n",
    "abs_path = r\"C:/Users/lukar/Desktop/c_cpp_projects/CPP/projects/matrix/Python/MNIST/cpp_data/normalized_without_zeros/\"\n",
    "dir_files = [f for f in listdir(abs_path) if isfile(join(abs_path, f))]\n",
    "\n",
    "if not dir_files:\n",
    "    write_cpp_data(train_imgs_normalized, \"normalized_without_zeros/train_data_imgs.txt\")\n",
    "    write_cpp_data(test_imgs_normalized, \"normalized_without_zeros/test_data_imgs.txt\")\n",
    "    #writes .txt data for cpp DL framework\n",
    "    write_cpp_data(train_oh, \"normalized_without_zeros/train_labels_oh.txt\")\n",
    "    write_cpp_data(test_oh, \"normalized_without_zeros/test_labels_oh.txt\")\n"
   ]
  },
  {
   "cell_type": "code",
   "execution_count": 7,
   "metadata": {},
   "outputs": [
    {
     "name": "stdout",
     "output_type": "stream",
     "text": [
      "12\n",
      "10\n"
     ]
    }
   ],
   "source": [
    "a = {1: 12, 2: 10}\n",
    "for c in a.values(): print(c)"
   ]
  },
  {
   "cell_type": "markdown",
   "metadata": {},
   "source": [
    "IDEA: \"friendly network\" for image recognition\n",
    "instead of an adversarial network, a friendly network localizes pixels\n",
    "of an image that are not relevant to the class of objects we want to localize, based on the predictions of the main network(it simply has to take the opposite of the predictions).\n",
    "The less the set of pixels is relevant to the area we want to recognize,\n",
    "the more it will be shrinked towards zero during preprocessing.\n",
    "This might be a handfull algorithm for online training because it should\n",
    "significantly reduce the noize. But we need to figure out a way to reduce\n",
    "computational cost as we d like it to run on online systems.\n",
    "\n",
    "More practically, we could apply a convolution filter with a dynamic sigma\n",
    "that would slide across the image. The less relevant the data passing by the \n",
    "frame of the filter, the bigger sigma. The more relevant the data, the more\n",
    "information from the corresponding data will be allowed to pass through the network\n",
    "\n",
    "The friendly network would be trained by evaluating the score of the main network on the test dataset. The friendly network could be a population of network, with a fitness score for each network, in a \"one for all all for one fashion\". \n",
    "1) Each network filters the data and tries to let the relevant data unchanged. 2) The main network trains itself based on the filtered data\n",
    "3) The networks that output the filtered data that result in the best score on the test set, when being computed by the main network, should get the best score\n",
    "\n",
    "OR\n",
    "\n",
    "Maybe there is no need to create a population and do it genetically and it is possible to modelize a cost function: based on the \"relevant location of data from the friend\" - \"main network prediction\""
   ]
  }
 ],
 "metadata": {
  "kernelspec": {
   "display_name": "Python 3",
   "language": "python",
   "name": "python3"
  },
  "language_info": {
   "codemirror_mode": {
    "name": "ipython",
    "version": 3
   },
   "file_extension": ".py",
   "mimetype": "text/x-python",
   "name": "python",
   "nbconvert_exporter": "python",
   "pygments_lexer": "ipython3",
   "version": "3.6.5"
  }
 },
 "nbformat": 4,
 "nbformat_minor": 2
}
